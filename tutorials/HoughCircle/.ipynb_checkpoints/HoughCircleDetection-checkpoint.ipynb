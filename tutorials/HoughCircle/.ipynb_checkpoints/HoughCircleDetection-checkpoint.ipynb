{
 "cells": [
  {
   "cell_type": "markdown",
   "metadata": {
    "toc": true
   },
   "source": [
    "<h1>Table of Contents<span class=\"tocSkip\"></span></h1>\n",
    "<div class=\"toc\"><ul class=\"toc-item\"><li><span><a href=\"#Hough-Circle-Detection\" data-toc-modified-id=\"Hough-Circle-Detection-1\"><span class=\"toc-item-num\">1&nbsp;&nbsp;</span>Hough Circle Detection</a></span></li></ul></div>"
   ]
  },
  {
   "cell_type": "markdown",
   "metadata": {},
   "source": [
    "## Hough Circle Detection\n",
    "\n",
    "Here is small tutorial on how to use hough circle detection on ancient objects.\n",
    "\n",
    "The tutorial covers both the implementation of the algorithm and it's usage.\n",
    "\n",
    "\n",
    "First a list of packages"
   ]
  },
  {
   "cell_type": "code",
   "execution_count": 2,
   "metadata": {},
   "outputs": [],
   "source": [
    "@file:DependsOnMaven(\"de.erichseifert.gral:gral-core:0.11\")"
   ]
  },
  {
   "cell_type": "code",
   "execution_count": 3,
   "metadata": {},
   "outputs": [
    {
     "name": "stderr",
     "output_type": "stream",
     "text": [
      "error: unresolved reference: de\n",
      "import de.erichseifert.gral.data.DataSeries\n",
      "       ^\n",
      "error: unresolved reference: de\n",
      "import de.erichseifert.gral.data.DataTable\n",
      "       ^\n",
      "error: unresolved reference: de\n",
      "import de.erichseifert.gral.data.filters.Convolution\n",
      "       ^\n",
      "error: unresolved reference: de\n",
      "import de.erichseifert.gral.data.filters.Filter\n",
      "       ^\n",
      "error: unresolved reference: de\n",
      "import de.erichseifert.gral.data.filters.Kernel\n",
      "       ^\n",
      "error: unresolved reference: de\n",
      "import de.erichseifert.gral.data.filters.Median\n",
      "       ^\n",
      "error: unresolved reference: de\n",
      "import de.erichseifert.gral.graphics.Insets2D\n",
      "       ^\n",
      "error: unresolved reference: de\n",
      "import de.erichseifert.gral.graphics.Orientation\n",
      "       ^\n",
      "error: unresolved reference: de\n",
      "import de.erichseifert.gral.plots.XYPlot\n",
      "       ^\n",
      "error: unresolved reference: de\n",
      "import de.erichseifert.gral.plots.lines.DefaultLineRenderer2D\n",
      "       ^\n",
      "error: unresolved reference: de\n",
      "import de.erichseifert.gral.plots.points.PointRenderer\n",
      "       ^\n",
      "error: unresolved reference: de\n",
      "import de.erichseifert.gral.util.GraphicsUtils\n",
      "       ^\n"
     ]
    }
   ],
   "source": [
    "import de.erichseifert.gral.data.DataSeries\n",
    "import de.erichseifert.gral.data.DataTable\n",
    "import de.erichseifert.gral.data.filters.Convolution\n",
    "import de.erichseifert.gral.data.filters.Filter\n",
    "import de.erichseifert.gral.data.filters.Kernel\n",
    "import de.erichseifert.gral.data.filters.Median\n",
    "import de.erichseifert.gral.graphics.Insets2D\n",
    "import de.erichseifert.gral.graphics.Orientation\n",
    "import de.erichseifert.gral.plots.XYPlot\n",
    "import de.erichseifert.gral.plots.lines.DefaultLineRenderer2D\n",
    "import de.erichseifert.gral.plots.points.PointRenderer\n",
    "import de.erichseifert.gral.util.GraphicsUtils\n",
    "import java.awt.Color\n",
    "import java.util.*"
   ]
  },
  {
   "cell_type": "code",
   "execution_count": null,
   "metadata": {},
   "outputs": [],
   "source": []
  }
 ],
 "metadata": {
  "kernelspec": {
   "display_name": "Kotlin",
   "language": "kotlin",
   "name": "kotlin"
  },
  "language_info": {
   "file_extension": "kt",
   "name": "kotlin"
  },
  "nbTranslate": {
   "displayLangs": [
    "fr",
    "en"
   ],
   "hotkey": "alt-t",
   "langInMainMenu": true,
   "sourceLang": "en",
   "targetLang": "fr",
   "useGoogleTranslate": true
  },
  "toc": {
   "base_numbering": 1,
   "nav_menu": {},
   "number_sections": true,
   "sideBar": true,
   "skip_h1_title": false,
   "title_cell": "Table of Contents",
   "title_sidebar": "Contents",
   "toc_cell": true,
   "toc_position": {},
   "toc_section_display": true,
   "toc_window_display": false
  }
 },
 "nbformat": 4,
 "nbformat_minor": 2
}
